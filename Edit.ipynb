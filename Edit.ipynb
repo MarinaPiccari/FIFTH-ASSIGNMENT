{
 "cells": [
  {
   "cell_type": "markdown",
   "metadata": {},
   "source": [
    "## Edit\n",
    "##### Marina Piccari\n",
    "#### 1904900"
   ]
  },
  {
   "cell_type": "code",
   "execution_count": 1,
   "metadata": {},
   "outputs": [
    {
     "data": {
      "text/plain": [
       "360"
      ]
     },
     "execution_count": 1,
     "metadata": {},
     "output_type": "execute_result"
    }
   ],
   "source": [
    "from Bio.Seq import Seq\n",
    "from Bio import SeqIO\n",
    "\n",
    "L = []\n",
    "for record in SeqIO.parse(\"rosalind_edit.fasta\", \"fasta\"):\n",
    "    L.append(record.seq)\n",
    "\n",
    "def find_distance(v, w):\n",
    "    m = len(v) + 1\n",
    "    n = len(w) + 1\n",
    "\n",
    "    d = {}\n",
    "\n",
    "    for i in range(m):\n",
    "        d[i, 0] = i\n",
    "    for j in range(n):\n",
    "        d[0, j] = j\n",
    "    for i in range(1, m):\n",
    "        for j in range(1, n):\n",
    "            if v[i-1] == w[j-1]:\n",
    "                cost = 0\n",
    "            else: \n",
    "                cost = 1\n",
    "            d[i,j] = min(d[i, j-1]+1,\n",
    "                           d[i-1, j]+1,\n",
    "                           d[i-1, j-1] + cost)\n",
    "    return d[i,j]\n",
    "\n",
    "find_distance(L[0], L[1])"
   ]
  }
 ],
 "metadata": {
  "kernelspec": {
   "display_name": "Python 3",
   "language": "python",
   "name": "python3"
  },
  "language_info": {
   "codemirror_mode": {
    "name": "ipython",
    "version": 3
   },
   "file_extension": ".py",
   "mimetype": "text/x-python",
   "name": "python",
   "nbconvert_exporter": "python",
   "pygments_lexer": "ipython3",
   "version": "3.8.3"
  }
 },
 "nbformat": 4,
 "nbformat_minor": 4
}
