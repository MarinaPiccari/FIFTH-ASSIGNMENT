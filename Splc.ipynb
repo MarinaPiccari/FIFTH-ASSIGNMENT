{
 "cells": [
  {
   "cell_type": "markdown",
   "metadata": {},
   "source": [
    "## Splc\n",
    "##### Marina Piccari\n",
    "#### 1904900"
   ]
  },
  {
   "cell_type": "code",
   "execution_count": null,
   "metadata": {},
   "outputs": [],
   "source": [
    "pip install biop"
   ]
  },
  {
   "cell_type": "code",
   "execution_count": 16,
   "metadata": {},
   "outputs": [
    {
     "name": "stdout",
     "output_type": "stream",
     "text": [
      "MSHTSRNLVFYVTGGSEGLHTADNDCPLVRWNTVFMFPYFGRTSHALVYEDGDGCSADFLSIGRCGLSVTLTWALPLAMPWPSHTSAGVADACRRRLVGGRPLGYNSEVIVYSSGSRRPPARLLYTGTKAPLTIRAAVLWISIEFTVWASTKVAQRSDVPNTTVSGIYLRVRCNSPCSIAGIILS\n"
     ]
    }
   ],
   "source": [
    "from Bio.Seq import Seq\n",
    "from Bio import SeqIO\n",
    "\n",
    "def remove_introns(string, lst):\n",
    "    for x in lst:\n",
    "        X = str(x)\n",
    "        string = string.replace(X, '')\n",
    "    return string\n",
    "\n",
    "L = []\n",
    "for record in SeqIO.parse(\"rosalind_splc.fasta\", \"fasta\"):\n",
    "    L.append(record.seq)\n",
    "\n",
    "seq = remove_introns(str(L[0]), L[1:])\n",
    "coding_DNA = Seq(seq)\n",
    "mRNA = coding_DNA.transcribe()\n",
    "prot = mRNA.translate(to_stop=True)\n",
    "\n",
    "print (prot)"
   ]
  }
 ],
 "metadata": {
  "kernelspec": {
   "display_name": "Python 3",
   "language": "python",
   "name": "python3"
  },
  "language_info": {
   "codemirror_mode": {
    "name": "ipython",
    "version": 3
   },
   "file_extension": ".py",
   "mimetype": "text/x-python",
   "name": "python",
   "nbconvert_exporter": "python",
   "pygments_lexer": "ipython3",
   "version": "3.8.3"
  }
 },
 "nbformat": 4,
 "nbformat_minor": 4
}
