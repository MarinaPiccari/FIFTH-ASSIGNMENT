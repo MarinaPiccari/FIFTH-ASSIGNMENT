{
 "cells": [
  {
   "cell_type": "markdown",
   "metadata": {},
   "source": [
    "## Hamm\n",
    "##### Marina Piccari\n",
    "#### 1904900"
   ]
  },
  {
   "cell_type": "code",
   "execution_count": 4,
   "metadata": {},
   "outputs": [
    {
     "name": "stdout",
     "output_type": "stream",
     "text": [
      "485\n"
     ]
    }
   ],
   "source": [
    "def count_point_mutations(s1, s2):\n",
    "    dh = 0\n",
    "    for i in range(len(s1)-1):\n",
    "        if s1[i] != s2[i]:\n",
    "            dh += 1\n",
    "    return (dh)\n",
    "\n",
    "with open ('rosalind_hamm.txt', 'r') as f:\n",
    "    s = str(f.readline())\n",
    "    t = str(f.readline())\n",
    "    print (count_point_mutations(s, t))\n",
    "    "
   ]
  }
 ],
 "metadata": {
  "kernelspec": {
   "display_name": "Python 3",
   "language": "python",
   "name": "python3"
  },
  "language_info": {
   "codemirror_mode": {
    "name": "ipython",
    "version": 3
   },
   "file_extension": ".py",
   "mimetype": "text/x-python",
   "name": "python",
   "nbconvert_exporter": "python",
   "pygments_lexer": "ipython3",
   "version": "3.8.3"
  }
 },
 "nbformat": 4,
 "nbformat_minor": 4
}
