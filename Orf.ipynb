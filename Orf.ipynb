{
 "cells": [
  {
   "cell_type": "markdown",
   "metadata": {},
   "source": [
    "## Orf\n",
    "##### Marina Piccari\n",
    "#### 1904900"
   ]
  },
  {
   "cell_type": "code",
   "execution_count": null,
   "metadata": {},
   "outputs": [],
   "source": [
    "pip install biop"
   ]
  },
  {
   "cell_type": "code",
   "execution_count": 8,
   "metadata": {},
   "outputs": [
    {
     "name": "stdout",
     "output_type": "stream",
     "text": [
      "MYNRLTRCSFRLSRPGLLS\n",
      "MPAPLKA\n",
      "MLDFSKRTTADGRGISDLDVAM\n",
      "M\n",
      "MQFPERMTRLALKILRIRNQMPPCGRRIVSRHYSTSVVMSNPHDCSSLLG\n",
      "MTRLALKILRIRNQMPPCGRRIVSRHYSTSVVMSNPHDCSSLLG\n",
      "MPPCGRRIVSRHYSTSVVMSNPHDCSSLLG\n",
      "MWKTYSLATLLYFGSHVQPP\n",
      "MSNPHDCSSLLG\n",
      "MIARVCLDSIFEAG\n",
      "MYMIDRKEVGY\n",
      "MIDRKEVGY\n",
      "MISLSRYPESRVEHAVPLPLLCRYVPLLYQPTGARVELKPNCRRPPKGPTTWTI\n",
      "MQFPYRCCADTSLSCTSRPVPGLNSNRTVDVRLRVQLHGLSDLQAT\n",
      "MPSASVGCS\n",
      "MIFKRMCCLLSGSLKIR\n",
      "MCCLLSGSLKIR\n",
      "MLHTTFGVSGQTYHLP\n",
      "MIRYDDTAPLRSFNLGKHLWGLLQGVK\n",
      "MILPLSVLLIWGSTYGAYYRG\n",
      "MGLITGGKINDRGSQHLFGILPDDDRQKGSRILASILLPFCLSCT\n",
      "MIEVRSTYLVYCQTMIDRKEVGY\n",
      "MYIEYLNRPQIYYPSKLEQSWGLDMTTEVE\n",
      "MGVGHDYRSRVMSRDYTSSTWWHLVSDTEDF\n",
      "MTTEVE\n",
      "MSRDYTSSTWWHLVSDTEDF\n",
      "MVAFGF\n",
      "MPA\n",
      "MPLPSAVVRFEKSSITPPGAVGN\n"
     ]
    }
   ],
   "source": [
    "from Bio.Seq import Seq\n",
    "from Bio import SeqIO\n",
    "\n",
    "s = SeqIO.read('rosalind_orf.fasta', 'fasta')\n",
    "ORF = []\n",
    "mrna = s.seq.transcribe()\n",
    "cmrna = s.seq.reverse_complement().transcribe()\n",
    "    \n",
    "for a in range(len(mrna)):\n",
    "    if mrna[a:a+3] == 'AUG':\n",
    "        mRNA = mrna[a:]\n",
    "        for b in range(0, len(mRNA), 3):\n",
    "            if mRNA[b:b+3] == 'UAG' or mRNA[b:b+3] == 'UAA' or mRNA[b:b+3] == 'UGA':\n",
    "                prot = str(mRNA[:b+3].translate(to_stop=True))\n",
    "                if prot not in ORF and prot != '':\n",
    "                    ORF.append(prot)\n",
    "        \n",
    "for i in range(len(cmrna)):\n",
    "    if cmrna[i:i+3] == 'AUG':\n",
    "        cmRNA = cmrna[i:]\n",
    "        for j in range(0, len(cmRNA), 3):\n",
    "            if cmRNA[j:j+3] == 'UAG' or cmRNA[j:j+3] == 'UAA' or cmRNA[j:j+3] == 'UGA':\n",
    "                cprot = str(cmRNA[:j+3].translate(to_stop=True))\n",
    "                if cprot not in ORF and cprot != '':\n",
    "                    ORF.append(cprot)\n",
    "                    \n",
    "print ('\\n'.join(ORF))\n",
    "\n",
    "  "
   ]
  }
 ],
 "metadata": {
  "kernelspec": {
   "display_name": "Python 3",
   "language": "python",
   "name": "python3"
  },
  "language_info": {
   "codemirror_mode": {
    "name": "ipython",
    "version": 3
   },
   "file_extension": ".py",
   "mimetype": "text/x-python",
   "name": "python",
   "nbconvert_exporter": "python",
   "pygments_lexer": "ipython3",
   "version": "3.8.3"
  }
 },
 "nbformat": 4,
 "nbformat_minor": 4
}
