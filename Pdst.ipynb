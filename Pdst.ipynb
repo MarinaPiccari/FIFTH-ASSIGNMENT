{
 "cells": [
  {
   "cell_type": "markdown",
   "metadata": {},
   "source": [
    "## Pdst\n",
    "##### Marina Piccari\n",
    "#### 1904900"
   ]
  },
  {
   "cell_type": "code",
   "execution_count": null,
   "metadata": {},
   "outputs": [],
   "source": [
    "pip install biop"
   ]
  },
  {
   "cell_type": "code",
   "execution_count": 3,
   "metadata": {},
   "outputs": [
    {
     "name": "stdout",
     "output_type": "stream",
     "text": [
      "0.0000 0.6573 0.6213 0.4742 0.6303 0.4899 0.5596 0.6427 0.6596 0.3124 \n",
      "0.6573 0.0000 0.3247 0.5944 0.5652 0.6910 0.4865 0.4854 0.6169 0.6517 \n",
      "0.6213 0.3247 0.0000 0.4888 0.4708 0.6449 0.3157 0.3135 0.5528 0.6067 \n",
      "0.4742 0.5944 0.4888 0.0000 0.5079 0.4798 0.3258 0.5528 0.5876 0.3180 \n",
      "0.6303 0.5652 0.4708 0.5079 0.0000 0.6337 0.3202 0.5831 0.3494 0.6135 \n",
      "0.4899 0.6910 0.6449 0.4798 0.6337 0.0000 0.5865 0.6472 0.6618 0.3112 \n",
      "0.5596 0.4865 0.3157 0.3258 0.3202 0.5865 0.0000 0.4899 0.4910 0.5045 \n",
      "0.6427 0.4854 0.3135 0.5528 0.5831 0.6472 0.4899 0.0000 0.6315 0.6022 \n",
      "0.6596 0.6169 0.5528 0.5876 0.3494 0.6618 0.4910 0.6315 0.0000 0.6404 \n",
      "0.3124 0.6517 0.6067 0.3180 0.6135 0.3112 0.5045 0.6022 0.6404 0.0000 \n"
     ]
    }
   ],
   "source": [
    "from Bio import SeqIO\n",
    "\n",
    "def compute_distance(s1, s2):\n",
    "    d = 0\n",
    "    for x in range(len(s1)):\n",
    "        if s1[x] != s2[x]:\n",
    "            d += 1\n",
    "    return \"%.4f\" % (d/len(s1))\n",
    "\n",
    "L = []\n",
    "for record in SeqIO.parse(\"rosalind_pdst.fasta\", \"fasta\"):\n",
    "    L.append(record.seq)\n",
    "\n",
    "for i in range (len(L)):\n",
    "    for j in range (len(L)):\n",
    "        print (compute_distance(L[i], L[j]),  end=' ')\n",
    "    print ('\\n', end='')\n"
   ]
  }
 ],
 "metadata": {
  "kernelspec": {
   "display_name": "Python 3",
   "language": "python",
   "name": "python3"
  },
  "language_info": {
   "codemirror_mode": {
    "name": "ipython",
    "version": 3
   },
   "file_extension": ".py",
   "mimetype": "text/x-python",
   "name": "python",
   "nbconvert_exporter": "python",
   "pygments_lexer": "ipython3",
   "version": "3.8.3"
  }
 },
 "nbformat": 4,
 "nbformat_minor": 4
}
