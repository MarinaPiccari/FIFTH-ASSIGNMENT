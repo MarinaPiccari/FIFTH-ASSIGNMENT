{
 "cells": [
  {
   "cell_type": "markdown",
   "metadata": {},
   "source": [
    "## Edta\n",
    "##### Marina Piccari\n",
    "#### 1904900"
   ]
  },
  {
   "cell_type": "code",
   "execution_count": 1,
   "metadata": {},
   "outputs": [
    {
     "name": "stdout",
     "output_type": "stream",
     "text": [
      "405\n",
      "FQGACRVFCNAVDMTLQIISCWVTNQKVYDNKFQYMAVLDDCREFVQWTVDI-P---RMMRQKMCDKYMPYLYFFTMQMPKSMHIQLTEWFGKRCMYNPHWWNFFQQKSITYPFN----TPYHPPQT----DREHIIHT------K--GKIM-VSVYQA-SP----TFTLNEQNRWSGSWQRDIFQWWADGTAY-------ETMIHNLQNYHRWMLQRYWNQQ------CRWI-A---NMPNLQPWREPAQVLEITDRGKIEWKEEWSYFPCFQPWDMC-NLDRSMG--YEWFAAMKVQEAGQEWGHKRCDQIYLHPMWTCLAERMQFQQYCWSTCTRFTDWADARWCHDMPPTARC--K----GI-----TDTMC------------DWGL-IIGTQWFSRG------VF--HQWTV-----TVIM-KSV-------SSWKSTPIRCLTCAQMLVIMRCYFMLSGSSWRECRLRFHGVT-DEYHSNTPWLTMERILPHWYAYHMMIQFQIQ-----IVKMGMPFMDACITHWFKCYEKNFQAKGCWSSTGQQISDYWFEL-----ILYEVQQMMIFKMPQEHVIDNTK-KPRCRGRTIPTNQANCKRMHQTYWARVFHHPEMTAINDEALFWNLKRWCWQLDLTHSPGSNGNHDDLFCRTPDTFV---LEINGACLKNTKHWHRPH--F---NYDNPTDQCLHCFDHNSIWTKVLHAHPMEFWYGDWSTCLKHTGTLSIFKAKSNIVFMMCRYT------Q---KQTWMEH----P-WANPYSWQDMMQMGRYKRAEPLPNHQRVM-GFRLRLHY---RGQH-----FNHRLHGMKTETHDMGINFFEAQEKRMSEERGKDCKKHGHCVETKTIKCYFLELLDYRDHF---EHKDRFCSDT------AMEWVVKA-THE--F--DGQHWDYSLLYPGQH\n",
      "FQGA----------TLQIISCWVTNQKIYDNKFWYM------IEFVQTTVDIVPWDDRMLRQKMCDKYMP---------PKSMHYQLTEWFGKRCMDN--RQN---TKSVTFVFNLQVKTDYHPPQTGVTCQREQIIHTREFCVMKWMGQIMHVSVYQADSPAWMKQFTLNEQNRWSGSWERYIFQWWADGTAYNWVFWCRDRMIHNLQNYHRWMLQRYWNQQNNNNKQNRWIRAYGCKYENLQPWREPAQVLE---R-LHENKEE-----CFQPWDMCMQIKIVNGHGQYWQFWDK-Q--NSLDFH---WIKYLPLMWTCLAER-------WSTCTRFFDWADARWCHMMPPTARCPYKFFWNGIDPMYEKDTMCTEENRQEITSYYYCALKIRFLRRFSRGNNEKYWRFDFHQWTVRRLQWMDIMSYSVVNQPKWPRSEKSTPIRCLTCAKMLVIMRCYEMLSGSSWREWTIVIRIKTRDEYHSMTAWRTMERI----YAHDMMIQWQIQHSQQPNVKMGMPRFPACITHWDKCYEKNFQAKGIWSSTGQQIS--RFELQPWRHCLYEVQQMMI-------VIDNTKFWPRCRGYMIPTNQANCKR---------FHHPEMTAINDEALF---KNW--QL--------NGNHDDLFCRTPDTFVHQAKEINGARLKNTKHWHRPHQCFLGANYDIP-DQNMHCYDHNEFW---------YNIQKDWSTCLKHTGTLSIFWA--NIVFMMCRCTEHKNCCQFIQKQTWMEHLEFSPIWKPCCNWPTEM--GRYKRAEPLPNHQRVMDEFRLRLHYYADMGQHGVPWTKNFNLHGKKTETHDMGINF-E----VIFEAQFK-----GHCVETPTAK--NL--ADYRDNFIIMWHKDRFCSHTCSHISTAMPWVVKAEIHEMWFFQDGQQWDYSLLNPGQH\n"
     ]
    }
   ],
   "source": [
    "from Bio import SeqIO\n",
    "import numpy as np\n",
    "\n",
    "L = []\n",
    "for record in SeqIO.parse(\"rosalind_edta.fasta\", \"fasta\"):\n",
    "    L.append(record.seq)\n",
    "\n",
    "def edta(v,w):\n",
    "    m, n = len(v) + 1, len(w) + 1\n",
    "    V, W = [], []\n",
    "    \n",
    "    M = np.zeros ((m, n))\n",
    "\n",
    "    for i in range(m):\n",
    "        M[i, 0] = i\n",
    "    for j in range(n):\n",
    "        M[0, j] = j\n",
    "    \n",
    "    for i in range(1, m):\n",
    "            for j in range(1, n):\n",
    "                if v[i-1] == w[j-1]:\n",
    "                     M[i,j] = M[i-1,j-1]\n",
    "                else:\n",
    "                    M[i,j] = min(M[i-1,j]+1, M[i-1,j-1]+1, M[i,j-1]+1)\n",
    "\n",
    "    print (int(round(M[m-1, n-1])))\n",
    "\n",
    "    a, b = len(M)-1, len(M[0])-1\n",
    "    while (a>0 and b>0):\n",
    "        if min(M[a][b-1], M[a-1][b], M[a-1][b-1]) == M[a-1][b-1]:\n",
    "                V.append(v[a-1])                \n",
    "                W.append(w[b-1])\n",
    "                a -= 1\n",
    "                b -= 1\n",
    "        elif M[a][b] == M[a-1][b]+1:\n",
    "                V.append(v[a-1])\n",
    "                W.append('-')\n",
    "                a -= 1\n",
    "        elif M[a][b] == M[a][b-1]+1:\n",
    "                V.append('-')\n",
    "                W.append(w[b-1])\n",
    "                b -= 1\n",
    "    print(''.join(V[::-1]))\n",
    "    print(''.join(W[::-1]))\n",
    "    \n",
    "edta(L[0], L[1])"
   ]
  }
 ],
 "metadata": {
  "kernelspec": {
   "display_name": "Python 3",
   "language": "python",
   "name": "python3"
  },
  "language_info": {
   "codemirror_mode": {
    "name": "ipython",
    "version": 3
   },
   "file_extension": ".py",
   "mimetype": "text/x-python",
   "name": "python",
   "nbconvert_exporter": "python",
   "pygments_lexer": "ipython3",
   "version": "3.8.3"
  }
 },
 "nbformat": 4,
 "nbformat_minor": 4
}
