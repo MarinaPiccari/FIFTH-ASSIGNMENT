{
 "cells": [
  {
   "cell_type": "markdown",
   "metadata": {},
   "source": [
    "## Tran\n",
    "##### Marina Piccari\n",
    "#### 1904900"
   ]
  },
  {
   "cell_type": "code",
   "execution_count": 6,
   "metadata": {},
   "outputs": [
    {
     "name": "stdout",
     "output_type": "stream",
     "text": [
      "Requirement already satisfied: biop in c:\\users\\122002\\anaconda3\\lib\\site-packages (0.1.dev3)\n",
      "Requirement already satisfied: docopt in c:\\users\\122002\\anaconda3\\lib\\site-packages (from biop) (0.6.2)\n",
      "Requirement already satisfied: future==0.16.0 in c:\\users\\122002\\anaconda3\\lib\\site-packages (from biop) (0.16.0)\n",
      "Requirement already satisfied: docutils==0.13.1 in c:\\users\\122002\\anaconda3\\lib\\site-packages (from biop) (0.13.1)\n",
      "Note: you may need to restart the kernel to use updated packages.\n"
     ]
    }
   ],
   "source": [
    "pip install biop"
   ]
  },
  {
   "cell_type": "code",
   "execution_count": 1,
   "metadata": {},
   "outputs": [
    {
     "name": "stdout",
     "output_type": "stream",
     "text": [
      "2.15596330275\n"
     ]
    }
   ],
   "source": [
    "from Bio import SeqIO\n",
    "\n",
    "def count_R(s1, s2):\n",
    "    pur = ['A', 'G']\n",
    "    pyr = ['T', 'C']\n",
    "    trans = 0\n",
    "    transv = 0\n",
    "    for i in range(len(s1)-1):\n",
    "        if s1[i] != s2[i]:\n",
    "            if s1[i] in pur and s2[i] in pur or s1[i] in pyr and s2[i] in pyr:\n",
    "                trans += 1\n",
    "            elif s1[i] in pur and s2[i] in pyr or s1[i] in pyr and s2[i] in pur:\n",
    "                transv += 1\n",
    "    return \"%.11f\" % (trans/transv)\n",
    "\n",
    "L = []\n",
    "for record in SeqIO.parse(\"rosalind_tran.fasta\", \"fasta\"):\n",
    "    L.append(record.seq)\n",
    "print (count_R(L[0], L[1]))\n"
   ]
  }
 ],
 "metadata": {
  "kernelspec": {
   "display_name": "Python 3",
   "language": "python",
   "name": "python3"
  },
  "language_info": {
   "codemirror_mode": {
    "name": "ipython",
    "version": 3
   },
   "file_extension": ".py",
   "mimetype": "text/x-python",
   "name": "python",
   "nbconvert_exporter": "python",
   "pygments_lexer": "ipython3",
   "version": "3.8.3"
  }
 },
 "nbformat": 4,
 "nbformat_minor": 4
}
