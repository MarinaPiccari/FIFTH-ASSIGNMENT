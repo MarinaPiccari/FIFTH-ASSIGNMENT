{
 "cells": [
  {
   "cell_type": "markdown",
   "metadata": {},
   "source": [
    "## Lcsq\n",
    "##### Marina Piccari\n",
    "#### 1904900"
   ]
  },
  {
   "cell_type": "code",
   "execution_count": 74,
   "metadata": {},
   "outputs": [
    {
     "name": "stdout",
     "output_type": "stream",
     "text": [
      "TAGAATCCACCCTCCATCCAAATGCAAAGCGGGATCCTAAATTATCGGCGGCGCAGCTTCCTAAATCAACAGGTACCCTCGCCTCATGCGAGACTATGATTTTTTCCGGGGCTGCGTTATCGATTAAGTATGCACCCAAGTGGTATCATTTACGCCCGGCGGGGCAACGACGTCCAAGATTTTCGTCAGGGTTCATCAGCAGTTTTAGCCCCAAAGTTTATTAATGGTCTCCTATTTCTTGAAGTGCCTCTATTAACAACGCAAATTCGGCGTCTCCCGAAGAGGGATAATTTCAGACAAATCAATTTTTAGTATTGCAAGGATCCATTATAATAGTGCCACAAGTCGAAACTCGAGAACATTTACCTATTGAGAATGCGTTAGGGGCTGGGGGCAGCTCTCGCACAAAGGGAAAAGACTCACATCCCTCTATTTCGCTGAGGCTCCGGGGACGGCCAAATGACGTATCTATCGCGGAGATGTGGCCGGAAGCGTCAGGAACCACGTGACCCTAAAAACGAGAGCATGTGGAAAAACAATTTTGAGCCCGACAATACCAATCTGT\n"
     ]
    }
   ],
   "source": [
    "from Bio import SeqIO\n",
    "\n",
    "L = []\n",
    "for record in SeqIO.parse(\"rosalind_lcsq.fasta\", \"fasta\"):\n",
    "    L.append(record.seq)\n",
    "\n",
    "m = len(L[0])\n",
    "n = len(L[1])\n",
    "\n",
    "S= []\n",
    "for c in range(m+1):\n",
    "    S.append([0]* (n+1))\n",
    "\n",
    "for i, x in enumerate(L[0]):\n",
    "    for j, y in enumerate(L[1]):\n",
    "        if x == y:\n",
    "            S[i+1][j+1] = S[i][j] + 1\n",
    "        else:\n",
    "            S[i+1][j+1] = max(S[i+1][j], S[i][j+1])\n",
    "            \n",
    "lcsq = ''\n",
    "while m*n != 0:\n",
    "    if S[m][n] == S[m-1][n]:\n",
    "        m -= 1\n",
    "    elif S[m][n] == S[m][n-1]:\n",
    "        n -= 1\n",
    "    else:\n",
    "        lcsq += L[0][m-1]\n",
    "        m -= 1\n",
    "        n -= 1\n",
    "\n",
    "print (lcsq[::-1])"
   ]
  }
 ],
 "metadata": {
  "kernelspec": {
   "display_name": "Python 3",
   "language": "python",
   "name": "python3"
  },
  "language_info": {
   "codemirror_mode": {
    "name": "ipython",
    "version": 3
   },
   "file_extension": ".py",
   "mimetype": "text/x-python",
   "name": "python",
   "nbconvert_exporter": "python",
   "pygments_lexer": "ipython3",
   "version": "3.8.3"
  }
 },
 "nbformat": 4,
 "nbformat_minor": 4
}
