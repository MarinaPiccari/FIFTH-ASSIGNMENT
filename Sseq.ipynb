{
 "cells": [
  {
   "cell_type": "markdown",
   "metadata": {},
   "source": [
    "## Sseq\n",
    "##### Marina Piccari\n",
    "#### 1904900"
   ]
  },
  {
   "cell_type": "code",
   "execution_count": 1,
   "metadata": {},
   "outputs": [
    {
     "name": "stdout",
     "output_type": "stream",
     "text": [
      "Requirement already satisfied: biop in c:\\users\\122002\\anaconda3\\lib\\site-packages (0.1.dev3)\n",
      "Requirement already satisfied: docopt in c:\\users\\122002\\anaconda3\\lib\\site-packages (from biop) (0.6.2)\n",
      "Requirement already satisfied: future==0.16.0 in c:\\users\\122002\\anaconda3\\lib\\site-packages (from biop) (0.16.0)\n",
      "Requirement already satisfied: docutils==0.13.1 in c:\\users\\122002\\anaconda3\\lib\\site-packages (from biop) (0.13.1)\n",
      "Note: you may need to restart the kernel to use updated packages.\n"
     ]
    }
   ],
   "source": [
    "pip install biop"
   ]
  },
  {
   "cell_type": "code",
   "execution_count": 7,
   "metadata": {},
   "outputs": [
    {
     "name": "stdout",
     "output_type": "stream",
     "text": [
      "7 9 13 19 25 27 31 33 38 42 50 65 73 76 78 79 84 86 89 94 95 96 97 102 103 104 105 113 123\n"
     ]
    }
   ],
   "source": [
    "from Bio import SeqIO\n",
    "\n",
    "def sseq(lst):\n",
    "    position = -1\n",
    "    ind = []\n",
    "    for i in lst[1]:\n",
    "        position = lst[0].find(i, position+1)\n",
    "\n",
    "        ind.append(position+1)\n",
    "\n",
    "    return ind\n",
    "          \n",
    "L = []\n",
    "for record in SeqIO.parse(\"rosalind_sseq.fasta\", \"fasta\"):\n",
    "    L.append(record.seq)\n",
    "print (*sseq(L))"
   ]
  }
 ],
 "metadata": {
  "kernelspec": {
   "display_name": "Python 3",
   "language": "python",
   "name": "python3"
  },
  "language_info": {
   "codemirror_mode": {
    "name": "ipython",
    "version": 3
   },
   "file_extension": ".py",
   "mimetype": "text/x-python",
   "name": "python",
   "nbconvert_exporter": "python",
   "pygments_lexer": "ipython3",
   "version": "3.8.3"
  }
 },
 "nbformat": 4,
 "nbformat_minor": 4
}
